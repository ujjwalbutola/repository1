{
 "cells": [
  {
   "cell_type": "markdown",
   "id": "a676cf37",
   "metadata": {},
   "source": [
    "#  Data Science Tools and Ecosystem"
   ]
  },
  {
   "cell_type": "markdown",
   "id": "6f4e9309",
   "metadata": {},
   "source": [
    "In this notebook, Data Science Tools and Ecosystem are summarized."
   ]
  },
  {
   "cell_type": "markdown",
   "id": "b9f7036b",
   "metadata": {},
   "source": [
    "Objectives:\n",
    ". popular languages used for data science\n",
    ". tools that are used for data science\n",
    ". common libraries that are used in data science\n",
    ". code block to display a simple aritmetic expression in python\n",
    ". code block to convert 200 minutes into hour in python"
   ]
  },
  {
   "cell_type": "markdown",
   "id": "0e594aaf",
   "metadata": {},
   "source": [
    "List of some lanuages that are used in data science\n",
    "1-Python\n",
    "2-Julia\n",
    "3-R\n",
    "4-SQL\n",
    "5-JAVA"
   ]
  },
  {
   "cell_type": "markdown",
   "id": "ea6cfdf3",
   "metadata": {},
   "source": [
    "List of different libraries that are used in Data Science\n",
    "1- Pandas\n",
    "2- Numpy\n",
    "3- Sklearn\n",
    "4- ggplot\n",
    "5- matplotlib"
   ]
  },
  {
   "cell_type": "markdown",
   "id": "b524f5b9",
   "metadata": {},
   "source": [
    "Table for data science tools\n",
    "|Data Science Tools|\n",
    "|Apache Hadoop     |\n",
    "|Plotly            |\n",
    "|TensorFlow        |"
   ]
  },
  {
   "cell_type": "markdown",
   "id": "b6fc6368",
   "metadata": {},
   "source": [
    "# Below are a few examples of evaluating arithmetic expressions in Python"
   ]
  },
  {
   "cell_type": "code",
   "execution_count": 1,
   "id": "44fbbff9",
   "metadata": {},
   "outputs": [
    {
     "data": {
      "text/plain": [
       "17"
      ]
     },
     "execution_count": 1,
     "metadata": {},
     "output_type": "execute_result"
    }
   ],
   "source": [
    "(3*4)+5"
   ]
  },
  {
   "cell_type": "code",
   "execution_count": 2,
   "id": "11ff0ecc",
   "metadata": {},
   "outputs": [
    {
     "data": {
      "text/plain": [
       "3.3333333333333335"
      ]
     },
     "execution_count": 2,
     "metadata": {},
     "output_type": "execute_result"
    }
   ],
   "source": [
    "#This will convert 200 minutes to hours by diving by 60\n",
    "200/60"
   ]
  },
  {
   "cell_type": "markdown",
   "id": "279808d5",
   "metadata": {},
   "source": [
    "# Author\n",
    "Ujjwal Butola"
   ]
  }
 ],
 "metadata": {
  "kernelspec": {
   "display_name": "Python 3 (ipykernel)",
   "language": "python",
   "name": "python3"
  },
  "language_info": {
   "codemirror_mode": {
    "name": "ipython",
    "version": 3
   },
   "file_extension": ".py",
   "mimetype": "text/x-python",
   "name": "python",
   "nbconvert_exporter": "python",
   "pygments_lexer": "ipython3",
   "version": "3.11.3"
  }
 },
 "nbformat": 4,
 "nbformat_minor": 5
}
